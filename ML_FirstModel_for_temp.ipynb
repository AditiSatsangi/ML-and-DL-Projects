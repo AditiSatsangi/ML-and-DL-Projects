{
  "nbformat": 4,
  "nbformat_minor": 0,
  "metadata": {
    "colab": {
      "provenance": [],
      "authorship_tag": "ABX9TyOf3lZkO7X134evY7M740fC",
      "include_colab_link": true
    },
    "kernelspec": {
      "name": "python3",
      "display_name": "Python 3"
    },
    "language_info": {
      "name": "python"
    }
  },
  "cells": [
    {
      "cell_type": "markdown",
      "metadata": {
        "id": "view-in-github",
        "colab_type": "text"
      },
      "source": [
        "<a href=\"https://colab.research.google.com/github/AditiSatsangi/Miscellaneous-Projects/blob/main/ML_FirstModel_for_temp.ipynb\" target=\"_parent\"><img src=\"https://colab.research.google.com/assets/colab-badge.svg\" alt=\"Open In Colab\"/></a>"
      ]
    },
    {
      "cell_type": "code",
      "execution_count": null,
      "metadata": {
        "id": "_aq9T7b34AR4"
      },
      "outputs": [],
      "source": [
        "#ML MODEL  f=c×1.8+32, we will give TensorFlow some sample Celsius values (0, 8, 15, 22, 38) and their corresponding Fahrenheit values (32, 46, 59, 72, 100). Then, we will train a model that figures out the above formula through the training process."
      ]
    },
    {
      "cell_type": "markdown",
      "source": [
        "IMPORT DEPENDENCIES"
      ],
      "metadata": {
        "id": "cE5yAQWI4Lbs"
      }
    },
    {
      "cell_type": "code",
      "source": [
        "import tensorflow as tf\n",
        "import numpy as np\n",
        "import logging\n",
        "logger= tf.get_logger()\n",
        "logger.setLevel(logging.ERROR)"
      ],
      "metadata": {
        "id": "uVqqhQGf4T4l"
      },
      "execution_count": null,
      "outputs": []
    },
    {
      "cell_type": "markdown",
      "source": [
        "SET UP TRAINING DATA\n"
      ],
      "metadata": {
        "id": "IOkNrz_S6bwj"
      }
    },
    {
      "cell_type": "code",
      "source": [
        "celsius= np.array([-40, -10, 0, 8, 15 ,22,38], dtype = float)\n",
        "fahrenheit = np.array([-40,  14,32,46,59,72,100], dtype= float)\n",
        "\n",
        "for i,c in enumerate(celsius):\n",
        "  print(\"{} degrees Celsius = {} degrees Fahrenheit\".format(c,fahrenheit[i]))"
      ],
      "metadata": {
        "colab": {
          "base_uri": "https://localhost:8080/"
        },
        "id": "9gTiDQJK6iDj",
        "outputId": "b0b7e6cf-23ed-45d8-8702-fd26be2c36ac"
      },
      "execution_count": null,
      "outputs": [
        {
          "output_type": "stream",
          "name": "stdout",
          "text": [
            "-40.0 degrees Celsius = -40.0 degrees Fahrenheit\n",
            "-10.0 degrees Celsius = 14.0 degrees Fahrenheit\n",
            "0.0 degrees Celsius = 32.0 degrees Fahrenheit\n",
            "8.0 degrees Celsius = 46.0 degrees Fahrenheit\n",
            "15.0 degrees Celsius = 59.0 degrees Fahrenheit\n",
            "22.0 degrees Celsius = 72.0 degrees Fahrenheit\n",
            "38.0 degrees Celsius = 100.0 degrees Fahrenheit\n"
          ]
        }
      ]
    },
    {
      "cell_type": "markdown",
      "source": [
        "*Some Machine Learning terminology*\n",
        "\n",
        "**Feature**— The input(s) to our model. In this case, a single value — the degrees in Celsius.\n",
        "\n",
        "**Labels** — The output our model predicts. In this case, a single value — the degrees in Fahrenheit.\n",
        "\n",
        "**Example**— A pair of inputs/outputs used during training. In our case a pair of values from celsius_q and fahrenheit_a at a specific index, such as (22,72)."
      ],
      "metadata": {
        "id": "F4UVV-Bz85tQ"
      }
    },
    {
      "cell_type": "markdown",
      "source": [
        "CREATE MODEL"
      ],
      "metadata": {
        "id": "CKS6XBPe9aJH"
      }
    },
    {
      "cell_type": "code",
      "source": [
        "l0= tf.keras.layers.Dense(units=1, input_shape=[1])"
      ],
      "metadata": {
        "id": "kHw-gEn89CA8"
      },
      "execution_count": null,
      "outputs": []
    },
    {
      "cell_type": "markdown",
      "source": [
        "ASSEMBLE LAYER INTO MODEL"
      ],
      "metadata": {
        "id": "CBPQOy1O-yDk"
      }
    },
    {
      "cell_type": "code",
      "source": [
        "model= tf.keras.Sequential([l0])\n",
        "#or we can also define layer in modl like\n",
        "#model= tf.keras.Sequential([\n",
        "  #  tf.keras.layers.Dense(units=1, input_shape= [1])\n",
        "#])"
      ],
      "metadata": {
        "id": "WJ_EyqYm-1yZ"
      },
      "execution_count": null,
      "outputs": []
    },
    {
      "cell_type": "markdown",
      "source": [
        "COMPILE MODEL, WITH LOSS AND OPTIMIZER FUNCTIONS"
      ],
      "metadata": {
        "id": "bT41bU5z_l9S"
      }
    },
    {
      "cell_type": "code",
      "source": [
        "model.compile(loss='mean_squared_error',\n",
        "              optimizer= tf.keras.optimizers.Adam(0.1))"
      ],
      "metadata": {
        "id": "sVq5Z17a_tT0"
      },
      "execution_count": null,
      "outputs": []
    },
    {
      "cell_type": "markdown",
      "source": [
        "TRAIN MODEL"
      ],
      "metadata": {
        "id": "dDcjl4oRDnAT"
      }
    },
    {
      "cell_type": "code",
      "source": [
        "history= model.fit(celsius,fahrenheit,epochs=500, verbose= False)\n",
        "print(\"Finishing training model.\")"
      ],
      "metadata": {
        "colab": {
          "base_uri": "https://localhost:8080/"
        },
        "id": "KJd2Zi7SDo2W",
        "outputId": "29571d4a-e2da-4834-b159-e61cccc3ae4b"
      },
      "execution_count": null,
      "outputs": [
        {
          "output_type": "stream",
          "name": "stdout",
          "text": [
            "Finishing training model.\n"
          ]
        }
      ]
    },
    {
      "cell_type": "markdown",
      "source": [
        "DISPLAY TRAINING STATISTICS"
      ],
      "metadata": {
        "id": "VGwIA9haEfMZ"
      }
    },
    {
      "cell_type": "code",
      "source": [
        "import matplotlib.pyplot as plt\n",
        "plt.xlabel(\"Epoch Number\")\n",
        "plt.ylabel(\"Loss Magnitude\")\n",
        "plt.plot(history.history['loss'])"
      ],
      "metadata": {
        "colab": {
          "base_uri": "https://localhost:8080/",
          "height": 466
        },
        "id": "9aiASkbrEiJi",
        "outputId": "5cb22632-d965-44bb-dee2-c4f24a6c3133"
      },
      "execution_count": null,
      "outputs": [
        {
          "output_type": "execute_result",
          "data": {
            "text/plain": [
              "[<matplotlib.lines.Line2D at 0x7f6efa7ebc70>]"
            ]
          },
          "metadata": {},
          "execution_count": 34
        },
        {
          "output_type": "display_data",
          "data": {
            "text/plain": [
              "<Figure size 640x480 with 1 Axes>"
            ],
            "image/png": "[encoded data removed]"
          },
          "metadata": {}
        }
      ]
    },
    {
      "cell_type": "markdown",
      "source": [
        "Use model to predict values"
      ],
      "metadata": {
        "id": "BbunXZL0FG8v"
      }
    },
    {
      "cell_type": "code",
      "source": [
        "print(model.predict([100.0]))"
      ],
      "metadata": {
        "colab": {
          "base_uri": "https://localhost:8080/"
        },
        "id": "jPjuiPVeFKpL",
        "outputId": "ef51d377-3f9e-493d-c08d-7dd5b0c2d3ce"
      },
      "execution_count": null,
      "outputs": [
        {
          "output_type": "stream",
          "name": "stdout",
          "text": [
            "1/1 [==============================] - 0s 116ms/step\n",
            "[[211.29945]]\n"
          ]
        }
      ]
    },
    {
      "cell_type": "code",
      "source": [],
      "metadata": {
        "id": "0Hlsu79EHwsU"
      },
      "execution_count": null,
      "outputs": []
    },
    {
      "cell_type": "markdown",
      "source": [
        "Look at layer weights"
      ],
      "metadata": {
        "id": "MIkg51d5FpIp"
      }
    },
    {
      "cell_type": "code",
      "source": [
        "print(\"There are layer variables:{}\".format(l0.get_weights()))"
      ],
      "metadata": {
        "colab": {
          "base_uri": "https://localhost:8080/"
        },
        "id": "iUBJnr_hFsXe",
        "outputId": "26ed481b-f368-47c7-f388-2d671c677519"
      },
      "execution_count": null,
      "outputs": [
        {
          "output_type": "stream",
          "name": "stdout",
          "text": [
            "There are layer variables:[array([[1.8257259]], dtype=float32), array([28.72687], dtype=float32)]\n"
          ]
        }
      ]
    },
    {
      "cell_type": "markdown",
      "source": [
        "LIITLE EXPERIMENT WITH MULTILAYERS"
      ],
      "metadata": {
        "id": "w3tSd1jwHg0D"
      }
    },
    {
      "cell_type": "code",
      "source": [
        "l0 = tf.keras.layers.Dense(units=4, input_shape=[1])\n",
        "l1 = tf.keras.layers.Dense(units=4)\n",
        "l2 = tf.keras.layers.Dense(units=1)\n",
        "model = tf.keras.Sequential([l0, l1, l2])\n",
        "model.compile(loss='mean_squared_error', optimizer=tf.keras.optimizers.Adam(0.1))\n",
        "model.fit(celsius, fahrenheit, epochs=500, verbose=False)\n",
        "print(\"Finished training the model\")\n",
        "print(model.predict([100.0]))\n",
        "print(\"Model predicts that 100 degrees Celsius is: {} degrees Fahrenheit\".format(model.predict([100.0])))\n",
        "print(\"These are the l0 variables: {}\".format(l0.get_weights()))\n",
        "print(\"These are the l1 variables: {}\".format(l1.get_weights()))\n",
        "print(\"These are the l2 variables: {}\".format(l2.get_weights()))"
      ],
      "metadata": {
        "colab": {
          "base_uri": "https://localhost:8080/"
        },
        "id": "JsJi1lbmHlUy",
        "outputId": "195e9cf4-9444-4fc4-e30b-a88b6c0eae60"
      },
      "execution_count": null,
      "outputs": [
        {
          "output_type": "stream",
          "name": "stdout",
          "text": [
            "Finished training the model\n",
            "1/1 [==============================] - 0s 177ms/step\n",
            "[[211.74744]]\n",
            "1/1 [==============================] - 0s 72ms/step\n",
            "Model predicts that 100 degrees Celsius is: [[211.74744]] degrees Fahrenheit\n",
            "These are the l0 variables: [array([[ 0.33178073,  0.620053  ,  0.01599384, -0.15796635]],\n",
            "      dtype=float32), array([ 3.369279 ,  3.6461287, -3.2251682, -3.44556  ], dtype=float32)]\n",
            "These are the l1 variables: [array([[ 0.17461799, -1.0100694 ,  0.9620958 , -0.0093811 ],\n",
            "       [ 0.05850235, -1.0364621 ,  0.38868412,  0.7634037 ],\n",
            "       [-1.2461773 ,  0.5716082 ,  0.43478417, -0.2511267 ],\n",
            "       [ 0.4405166 ,  0.19425094, -1.2772102 , -0.8574092 ]],\n",
            "      dtype=float32), array([ 2.5950575, -3.7065973,  3.4665074,  3.3661273], dtype=float32)]\n",
            "These are the l2 variables: [array([[ 0.43892324],\n",
            "       [-0.7465728 ],\n",
            "       [ 0.828139  ],\n",
            "       [ 0.6865099 ]], dtype=float32), array([3.3622072], dtype=float32)]\n"
          ]
        }
      ]
    },
    {
      "cell_type": "markdown",
      "source": [
        "PREDICTION"
      ],
      "metadata": {
        "id": "-AqtoXGrHrLQ"
      }
    },
    {
      "cell_type": "code",
      "source": [
        "print(model.predict([100.0]))"
      ],
      "metadata": {
        "colab": {
          "base_uri": "https://localhost:8080/"
        },
        "id": "Vjk0TAV7H1MB",
        "outputId": "f718784b-e348-42b8-83df-9fa07daff868"
      },
      "execution_count": null,
      "outputs": [
        {
          "output_type": "stream",
          "name": "stdout",
          "text": [
            "1/1 [==============================] - 0s 51ms/step\n",
            "[[211.74744]]\n"
          ]
        }
      ]
    },
    {
      "cell_type": "code",
      "source": [
        "print(\"There are layer variables:{}\".format(l0.get_weights()))"
      ],
      "metadata": {
        "colab": {
          "base_uri": "https://localhost:8080/"
        },
        "id": "FPbCpIlnH3si",
        "outputId": "f453fd94-9224-4b27-a4da-cb6224006e75"
      },
      "execution_count": null,
      "outputs": [
        {
          "output_type": "stream",
          "name": "stdout",
          "text": [
            "There are layer variables:[array([[ 0.33178073,  0.620053  ,  0.01599384, -0.15796635]],\n",
            "      dtype=float32), array([ 3.369279 ,  3.6461287, -3.2251682, -3.44556  ], dtype=float32)]\n"
          ]
        }
      ]
    }
  ]
}