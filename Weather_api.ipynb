{
  "nbformat": 4,
  "nbformat_minor": 0,
  "metadata": {
    "colab": {
      "provenance": [],
      "authorship_tag": "ABX9TyMUb26NFV3U+g2vwXVa7avb",
      "include_colab_link": true
    },
    "kernelspec": {
      "name": "python3",
      "display_name": "Python 3"
    },
    "language_info": {
      "name": "python"
    }
  },
  "cells": [
    {
      "cell_type": "markdown",
      "metadata": {
        "id": "view-in-github",
        "colab_type": "text"
      },
      "source": [
        "<a href=\"https://colab.research.google.com/github/AditiSatsangi/Miscellaneous-Projects/blob/main/Weather_api.ipynb\" target=\"_parent\"><img src=\"https://colab.research.google.com/assets/colab-badge.svg\" alt=\"Open In Colab\"/></a>"
      ]
    },
    {
      "cell_type": "code",
      "execution_count": null,
      "metadata": {
        "id": "eB__CUGYntNH"
      },
      "outputs": [],
      "source": [
        "import requests\n",
        "# htt prequest for accessing\n",
        "import json"
      ]
    },
    {
      "cell_type": "code",
      "source": [
        "response= requests.get('https://goweather.herokuapp.com/weather/agra')\n",
        "print(response)"
      ],
      "metadata": {
        "colab": {
          "base_uri": "https://localhost:8080/"
        },
        "id": "r_QfeQbJnyDX",
        "outputId": "0880e0d4-aecc-46f8-87f8-db0ec7bb51c0"
      },
      "execution_count": null,
      "outputs": [
        {
          "output_type": "stream",
          "name": "stdout",
          "text": [
            "<Response [200]>\n"
          ]
        }
      ]
    },
    {
      "cell_type": "code",
      "source": [
        "data= response.text\n",
        "print(data)"
      ],
      "metadata": {
        "id": "1Sipxf5an9Xb"
      },
      "execution_count": null,
      "outputs": []
    },
    {
      "cell_type": "markdown",
      "source": [
        "**TEMPERATURE**"
      ],
      "metadata": {
        "id": "9k6XQMDLqkNY"
      }
    },
    {
      "cell_type": "code",
      "source": [
        "data= json.loads(response.text)\n",
        "print(data)\n",
        "\n",
        "\n"
      ],
      "metadata": {
        "colab": {
          "base_uri": "https://localhost:8080/"
        },
        "id": "42BdbPQBo-XC",
        "outputId": "17a23a68-d8bf-4f19-ca4a-fbc9bf833691"
      },
      "execution_count": null,
      "outputs": [
        {
          "output_type": "stream",
          "name": "stdout",
          "text": [
            "{'temperature': '+38 °C', 'wind': '4 km/h', 'description': 'Partly cloudy', 'forecast': [{'day': '1', 'temperature': '+38 °C', 'wind': '13 km/h'}, {'day': '2', 'temperature': '+34 °C', 'wind': '16 km/h'}, {'day': '3', 'temperature': '+30 °C', 'wind': '21 km/h'}]}\n"
          ]
        }
      ]
    },
    {
      "cell_type": "code",
      "source": [
        "temp= data.get('temperature')\n",
        "print (temp)"
      ],
      "metadata": {
        "colab": {
          "base_uri": "https://localhost:8080/"
        },
        "id": "QUhSLU43p4Io",
        "outputId": "5f5adaaf-c8db-485e-96c6-11f5411f3811"
      },
      "execution_count": null,
      "outputs": [
        {
          "output_type": "stream",
          "name": "stdout",
          "text": [
            "+38 °C\n"
          ]
        }
      ]
    },
    {
      "cell_type": "markdown",
      "source": [
        "**WIND**"
      ],
      "metadata": {
        "id": "x8sND1OiqqQf"
      }
    },
    {
      "cell_type": "code",
      "source": [
        "WIND= data.get('wind')\n",
        "print (WIND)"
      ],
      "metadata": {
        "colab": {
          "base_uri": "https://localhost:8080/"
        },
        "id": "YeFAdeAMqmsU",
        "outputId": "f50a46c2-7815-4bdb-ee26-be13001b29c4"
      },
      "execution_count": null,
      "outputs": [
        {
          "output_type": "stream",
          "name": "stdout",
          "text": [
            "4 km/h\n"
          ]
        }
      ]
    },
    {
      "cell_type": "markdown",
      "source": [
        "**DESCRIBE**"
      ],
      "metadata": {
        "id": "qq25Xy6Oq0rk"
      }
    },
    {
      "cell_type": "code",
      "source": [
        "desc= data.get('description')\n",
        "print (desc)"
      ],
      "metadata": {
        "colab": {
          "base_uri": "https://localhost:8080/"
        },
        "id": "BP8wCZLgqbP3",
        "outputId": "4a00dad3-31b5-4793-9c89-d28d40705843"
      },
      "execution_count": null,
      "outputs": [
        {
          "output_type": "stream",
          "name": "stdout",
          "text": [
            "Partly cloudy\n"
          ]
        }
      ]
    }
  ]
}